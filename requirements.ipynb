{
 "cells": [
  {
   "cell_type": "markdown",
   "id": "52014dff",
   "metadata": {},
   "source": [
    "Output Python interpretator version."
   ]
  },
  {
   "cell_type": "code",
   "execution_count": 1,
   "id": "5ef682ef",
   "metadata": {},
   "outputs": [
    {
     "data": {
      "text/plain": [
       "'3.9.5 (default, May 05 2021, 15:23:13) [GCC]'"
      ]
     },
     "execution_count": 1,
     "metadata": {},
     "output_type": "execute_result"
    }
   ],
   "source": [
    "import sys\n",
    "\n",
    "sys.version"
   ]
  },
  {
   "cell_type": "markdown",
   "id": "10d32af0",
   "metadata": {},
   "source": [
    "Output installed packages in requirements format."
   ]
  },
  {
   "cell_type": "code",
   "execution_count": 2,
   "id": "230cbad6",
   "metadata": {},
   "outputs": [
    {
     "name": "stdout",
     "output_type": "stream",
     "text": [
      "backcall==0.2.0\n",
      "cloudpickle==1.6.0\n",
      "cycler==0.10.0\n",
      "decorator==4.4.2\n",
      "ipykernel==5.5.5\n",
      "ipython==7.23.1\n",
      "ipython-genutils==0.2.0\n",
      "jedi==0.18.0\n",
      "jupyter-client==6.1.12\n",
      "jupyter-core==4.7.1\n",
      "kiwisolver==1.3.1\n",
      "matplotlib==3.4.2\n",
      "matplotlib-inline==0.1.2\n",
      "numpy==1.20.3\n",
      "parso==0.8.2\n",
      "pexpect==4.8.0\n",
      "pickleshare==0.7.5\n",
      "Pillow==8.2.0\n",
      "prompt-toolkit==3.0.18\n",
      "ptyprocess==0.7.0\n",
      "Pygments==2.9.0\n",
      "pyparsing==2.4.7\n",
      "python-dateutil==2.8.1\n",
      "pyzmq==22.0.3\n",
      "six==1.16.0\n",
      "spyder-kernels==2.0.3\n",
      "tornado==6.1\n",
      "traitlets==5.0.5\n",
      "wcwidth==0.2.5\n",
      "wurlitzer==2.1.0\n",
      "Note: you may need to restart the kernel to use updated packages.\n"
     ]
    }
   ],
   "source": [
    "%pip freeze"
   ]
  },
  {
   "cell_type": "markdown",
   "id": "b373da07",
   "metadata": {},
   "source": [
    "Verify installed packages have compatible dependencies."
   ]
  },
  {
   "cell_type": "code",
   "execution_count": 3,
   "id": "cc4ee7eb",
   "metadata": {},
   "outputs": [
    {
     "name": "stdout",
     "output_type": "stream",
     "text": [
      "No broken requirements found.\n",
      "Note: you may need to restart the kernel to use updated packages.\n"
     ]
    }
   ],
   "source": [
    "%pip check"
   ]
  },
  {
   "cell_type": "markdown",
   "id": "ad5d9a82",
   "metadata": {},
   "source": [
    "List outdated packages."
   ]
  },
  {
   "cell_type": "code",
   "execution_count": 4,
   "id": "8355ec92",
   "metadata": {},
   "outputs": [
    {
     "name": "stdout",
     "output_type": "stream",
     "text": [
      "Package   Version Latest Type\n",
      "--------- ------- ------ -----\n",
      "decorator 4.4.2   5.0.9  wheel\n",
      "Note: you may need to restart the kernel to use updated packages.\n"
     ]
    }
   ],
   "source": [
    "%pip list --outdate"
   ]
  }
 ],
 "metadata": {
  "kernelspec": {
   "display_name": "python3.9_algorithms",
   "language": "python",
   "name": "python3.9_algorithms"
  },
  "language_info": {
   "codemirror_mode": {
    "name": "ipython",
    "version": 3
   },
   "file_extension": ".py",
   "mimetype": "text/x-python",
   "name": "python",
   "nbconvert_exporter": "python",
   "pygments_lexer": "ipython3",
   "version": "3.9.5"
  }
 },
 "nbformat": 4,
 "nbformat_minor": 5
}
